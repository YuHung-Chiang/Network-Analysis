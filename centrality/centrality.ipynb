{
 "cells": [
  {
   "cell_type": "markdown",
   "metadata": {},
   "source": [
    "# Centrality Analysis"
   ]
  },
  {
   "cell_type": "markdown",
   "metadata": {},
   "source": [
    "**Bridge Analysis**\n",
    "- Type 1: Bridges that have followers from both communities\n",
    "  -  Betweeness Centrality :   \n",
    "\n",
    "- Type 2: Bridges that have followers only from one communities, and follow one or more bridges itself.\n",
    "  -  Betweeness Centrality : How critical is the node in spreading information into the community where all its followers are from.\n",
    "  -  Closeness Centrality : How efficient it is for information to spread from this user/node.\n",
    "\n",
    "**Community Analysis**\n",
    "- Closeness Centrality : lower the closeness indicates the more important the node is within its echo chamber. "
   ]
  },
  {
   "cell_type": "code",
   "execution_count": 26,
   "metadata": {},
   "outputs": [
    {
     "name": "stdout",
     "output_type": "stream",
     "text": [
      "The autoreload extension is already loaded. To reload it, use:\n",
      "  %reload_ext autoreload\n"
     ]
    }
   ],
   "source": [
    "%load_ext autoreload\n",
    "%autoreload 2\n",
    "\n",
    "import json\n",
    "import os\n",
    "import sys\n",
    "import networkx as nx\n",
    "import matplotlib.pyplot as plt\n",
    "sys.path.insert(0, '/Users/yu-hung/Downloads/pheme-rumour-scheme-dataset')\n",
    "import header as head\n",
    "import centrality_head as ch\n",
    "from itertools import islice\n",
    "\n",
    "centrality_path = \"/Users/yu-hung/Downloads/pheme-rumour-scheme-dataset/centrality\""
   ]
  },
  {
   "cell_type": "markdown",
   "metadata": {},
   "source": [
    "## Graph Construction"
   ]
  },
  {
   "cell_type": "code",
   "execution_count": 30,
   "metadata": {},
   "outputs": [],
   "source": [
    "# Directed Graph based on following relation\n",
    "with open(\"/Users/yu-hung/Downloads/pheme-rumour-scheme-dataset/bridges/follow/user_followed_by.json\") as file:\n",
    "    node_relations = json.load(file)\n",
    "\n",
    "with open(\"/Users/yu-hung/Downloads/pheme-rumour-scheme-dataset/community_detection/follow/with_bridges.json\") as file:\n",
    "    communities = json.load(file)\n",
    "\n",
    "G = ch.makeDiGraph(node_relations,communities)\n",
    "rum = [ x for x,y in G.nodes(data=True) if y[\"at\"] == \"rumours\"]\n",
    "nonrum = [ x for x,y in G.nodes(data=True) if y[\"at\"] == \"non_rumours\"]\n",
    "uncat = [ x for x,y in G.nodes(data=True) if y[\"at\"] == \"uncategorized\"]\n",
    "bridges = [ x for x,y in G.nodes(data=True) if y[\"at\"] == \"bridges\"]"
   ]
  },
  {
   "cell_type": "code",
   "execution_count": 13,
   "metadata": {},
   "outputs": [],
   "source": [
    "# Directed Graph based on reacting relation\n",
    "with open(\"/Users/yu-hung/Downloads/pheme-rumour-scheme-dataset/who_reacted_by_whom.json\") as file:\n",
    "    node_relations = json.load(file)\n",
    "\n",
    "with open(\"/Users/yu-hung/Downloads/pheme-rumour-scheme-dataset/community_detection/react/communities.json\") as file:\n",
    "    communities = json.load(file)\n",
    "\n",
    "R_G = ch.makeDiGraph(node_relations,communities)\n",
    "rum = [ x for x,y in R_G.nodes(data=True) if y[\"at\"] == \"rumours\"]\n",
    "nonrum = [ x for x,y in R_G.nodes(data=True) if y[\"at\"] == \"non_rumours\"]\n",
    "uncat = [ x for x,y in R_G.nodes(data=True) if y[\"at\"] == \"uncategorized\"]\n",
    "bridges = [ x for x,y in R_G.nodes(data=True) if y[\"at\"] == \"bridges\"]"
   ]
  },
  {
   "cell_type": "code",
   "execution_count": 33,
   "metadata": {},
   "outputs": [],
   "source": [
    "# Directed Graph based on following and reacting relation\n",
    "with open(\"/Users/yu-hung/Downloads/pheme-rumour-scheme-dataset/react+following.json\") as file:\n",
    "    node_relations = json.load(file)\n",
    "\n",
    "with open(\"/Users/yu-hung/Downloads/pheme-rumour-scheme-dataset/community_detection/follow+react/communities.json\") as file:\n",
    "    communities = json.load(file)\n",
    "\n",
    "FR_G = ch.makeDiGraph(node_relations,communities)\n",
    "rum = [ x for x,y in FR_G.nodes(data=True) if y[\"at\"] == \"rumours\"]\n",
    "nonrum = [ x for x,y in FR_G.nodes(data=True) if y[\"at\"] == \"non_rumours\"]\n",
    "uncat = [ x for x,y in FR_G.nodes(data=True) if y[\"at\"] == \"uncategorized\"]\n",
    "bridges = [ x for x,y in FR_G.nodes(data=True) if y[\"at\"] == \"bridges\"]"
   ]
  },
  {
   "cell_type": "markdown",
   "metadata": {},
   "source": [
    "## Degree Centrality "
   ]
  },
  {
   "cell_type": "markdown",
   "metadata": {},
   "source": [
    "In degree analysis"
   ]
  },
  {
   "cell_type": "code",
   "execution_count": null,
   "metadata": {},
   "outputs": [],
   "source": [
    "in_degree = nx.in_degree_centrality(G)\n",
    "rum = {}\n",
    "non_rum = {}\n",
    "bridges = {}\n",
    "\n",
    "for id in list(in_degree):\n",
    "    if id in communities[\"rumours\"] : rum[id]=in_degree[id]\n",
    "    elif id in communities[\"non_rumours\"] : non_rum[id]=in_degree[id]\n",
    "    elif id in communities[\"bridges\"] : bridges[id]=in_degree[id]\n",
    "\n",
    "# Sort each list \n",
    "rum = dict(sorted(rum.items(), key=lambda item: item[1],reverse=True))\n",
    "non_rum = dict(sorted(non_rum.items(), key=lambda item: item[1],reverse=True))\n",
    "bridges = dict(sorted(bridges.items(), key=lambda item: item[1],reverse=True))\n",
    "\n",
    "in_degree = {\n",
    "    \"rumours\": rum,\n",
    "    \"non_rum\": non_rum,\n",
    "    \"bridges\": bridges\n",
    "}\n",
    "\n",
    "head.writeToJSON(head.makePath([centrality_path,\"degree\"]),\"in_degree\",in_degree)"
   ]
  },
  {
   "cell_type": "code",
   "execution_count": null,
   "metadata": {},
   "outputs": [],
   "source": [
    "inDegree = ch.degree_centrality(FR_G,\"in\")\n",
    "head.writeToJSON(head.makePath([centrality_path,\"follow+react\",\"degree\"]),\"inDegree\",inDegree)"
   ]
  },
  {
   "cell_type": "markdown",
   "metadata": {},
   "source": [
    "Out degree analysis"
   ]
  },
  {
   "cell_type": "code",
   "execution_count": null,
   "metadata": {},
   "outputs": [],
   "source": [
    "out_degree = nx.out_degree_centrality(G)\n",
    "rum = {}\n",
    "non_rum = {}\n",
    "bridges = {}\n",
    "\n",
    "for id in list(in_degree):\n",
    "    if id in communities[\"rumours\"] : rum[id]=out_degree[id]\n",
    "    elif id in communities[\"non_rumours\"] : non_rum[id]=out_degree[id]\n",
    "    elif id in communities[\"bridges\"] : bridges[id]=out_degree[id]\n",
    "\n",
    "# Sort each list \n",
    "rum = dict(sorted(rum.items(), key=lambda item: item[1],reverse=True))\n",
    "non_rum = dict(sorted(non_rum.items(), key=lambda item: item[1],reverse=True))\n",
    "bridges = dict(sorted(bridges.items(), key=lambda item: item[1],reverse=True))\n",
    "\n",
    "out_degree = {\n",
    "    \"rumours\": rum,\n",
    "    \"non_rum\": non_rum,\n",
    "    \"bridges\": bridges\n",
    "}\n",
    "\n",
    "head.writeToJSON(head.makePath([centrality_path,\"degree\"]),\"out_degree_2\",out_degree)\n"
   ]
  },
  {
   "cell_type": "code",
   "execution_count": null,
   "metadata": {},
   "outputs": [],
   "source": [
    "outDegree = ch.degree_centrality(FR_G,\"out\")\n",
    "head.writeToJSON(head.makePath([centrality_path,\"follow+react\",\"degree\"]),\"outDegree\",outDegree)"
   ]
  },
  {
   "cell_type": "markdown",
   "metadata": {},
   "source": [
    "## Betweeness centrality analysis\n",
    "\n",
    "The betweeness centrality analysis is based upon non-directed graph. "
   ]
  },
  {
   "cell_type": "code",
   "execution_count": null,
   "metadata": {},
   "outputs": [],
   "source": [
    "bet_cen = nx.betweenness_centrality(G, k=None, normalized=True, weight=None, endpoints=False, seed=None)\n",
    "rum = {}\n",
    "non_rum = {}\n",
    "bridges = {}\n",
    "\n",
    "for id in list(bet_cen):\n",
    "    if id in communities[\"rumours\"] : rum[id]=bet_cen[id]\n",
    "    elif id in communities[\"non_rumours\"] : non_rum[id]=bet_cen[id]\n",
    "    elif id in communities[\"bridges\"] : bridges[id]=bet_cen[id]\n",
    "\n",
    "# Sort each list \n",
    "rum = dict(sorted(rum.items(), key=lambda item: item[1],reverse=True))\n",
    "non_rum = dict(sorted(non_rum.items(), key=lambda item: item[1],reverse=True))\n",
    "bridges = dict(sorted(bridges.items(), key=lambda item: item[1],reverse=True))\n",
    "\n",
    "new_between = {\n",
    "    \"rumours\": rum,\n",
    "    \"non_rumours\": non_rum,\n",
    "    \"bridges\": bridges\n",
    "}\n",
    "\n",
    "head.writeToJSON(head.makePath([centrality_path,\"betweeness\"]),\"directed_betweenness\",new_between)"
   ]
  },
  {
   "cell_type": "code",
   "execution_count": 3,
   "metadata": {},
   "outputs": [],
   "source": [
    "bet_cen = ch.betweeness_centrality(G)\n",
    "head.writeToJSON(head.makePath([centrality_path,\"follow\",\"betweeness\"]),\"betweeness_2\",bet_cen)"
   ]
  },
  {
   "cell_type": "code",
   "execution_count": null,
   "metadata": {},
   "outputs": [],
   "source": [
    "bet_cen = ch.betweeness_centrality(FR_G)\n",
    "head.writeToJSON(head.makePath([centrality_path,\"follow+react\",\"betweeness\"]),\"betweeness_2\",bet_cen)"
   ]
  },
  {
   "cell_type": "markdown",
   "metadata": {},
   "source": [
    "## Closeness Analysis\n",
    "\n",
    "Type 1 bridges within rumour community"
   ]
  },
  {
   "cell_type": "code",
   "execution_count": null,
   "metadata": {},
   "outputs": [],
   "source": [
    "with open(\"/Users/yu-hung/Downloads/pheme-rumour-scheme-dataset/bridges/user_followed_by_v2.json\") as file:\n",
    "    followed_by = json.load(file)\n",
    "\n",
    "with open(\"/Users/yu-hung/Downloads/pheme-rumour-scheme-dataset/community_detection/with_bridges.json\") as file:\n",
    "    communities = json.load(file)\n",
    "\n",
    "rum_G = nx.DiGraph()\n",
    "\n",
    "rum_G.add_nodes_from(communities[\"rumours\"])\n",
    "rumourEdges = []\n",
    "rumourNodes = communities[\"rumours\"]\n",
    "\n",
    "non_rumourNodes = communities[\"non_rumours\"]\n",
    "\n",
    "rum_G.add_nodes_from(communities[\"bridges\"])\n",
    "bridgeEdges = []\n",
    "bridgeNodes = communities[\"bridges\"]\n",
    "\n",
    "for id in followed_by:\n",
    "    if id in non_rumourNodes: continue\n",
    "\n",
    "    user = followed_by[id]\n",
    "\n",
    "    for follower in user[\"rumours\"]: \n",
    "        rumourEdges.append((follower,id))\n",
    "        rum_G.add_edge(follower,id)\n",
    "    \n",
    "    for follower in user[\"bridges\"]: \n",
    "        bridgeEdges.append((follower,id))\n",
    "        rum_G.add_edge(follower,id)\n",
    "\n",
    "isolates = list(nx.isolates(rum_G))\n",
    "rum_G.remove_edges_from(isolates)\n",
    "\n",
    "isolates = set(isolates)\n",
    "rumourNodes = set(rumourNodes).difference(isolates)\n",
    "bridgeNodes = set(bridgeNodes).difference(isolates)"
   ]
  },
  {
   "cell_type": "code",
   "execution_count": null,
   "metadata": {},
   "outputs": [],
   "source": [
    "rumour_closeness = nx.closeness_centrality(rum_G)\n",
    "rum = {}\n",
    "bridges = {}\n",
    "\n",
    "for id in list(rumour_closeness):\n",
    "    if id in communities[\"rumours\"] : rum[id]=rumour_closeness[id]\n",
    "    elif id in communities[\"bridges\"] : bridges[id]=rumour_closeness[id]\n",
    "\n",
    "# Sort each list \n",
    "rum = dict(sorted(rum.items(), key=lambda item: item[1],reverse=True))\n",
    "bridges = dict(sorted(bridges.items(), key=lambda item: item[1],reverse=True))\n",
    "\n",
    "rumour_closeness = {\n",
    "    \"rumours\": rum,\n",
    "    \"bridges\": bridges\n",
    "}\n",
    "\n",
    "head.writeToJSON(centrality_path,\"rumour_closeness_2\",rumour_closeness)"
   ]
  },
  {
   "cell_type": "markdown",
   "metadata": {},
   "source": [
    "Type 1 bridges within nonrumour community"
   ]
  },
  {
   "cell_type": "code",
   "execution_count": null,
   "metadata": {},
   "outputs": [],
   "source": [
    "with open(\"/Users/yu-hung/Downloads/pheme-rumour-scheme-dataset/bridges/user_followed_by_v2.json\") as file:\n",
    "    followed_by = json.load(file)\n",
    "\n",
    "with open(\"/Users/yu-hung/Downloads/pheme-rumour-scheme-dataset/community_detection/with_bridges.json\") as file:\n",
    "    communities = json.load(file)\n",
    "\n",
    "non_rum_G = nx.DiGraph()\n",
    "\n",
    "rumourNodes = communities[\"rumours\"]\n",
    "\n",
    "non_rum_G.add_nodes_from(communities[\"non_rumours\"])\n",
    "non_rumourEdges = []\n",
    "non_rumourNodes = communities[\"non_rumours\"]\n",
    "\n",
    "non_rum_G.add_nodes_from(communities[\"bridges\"])\n",
    "bridgeEdges = []\n",
    "bridgeNodes = communities[\"bridges\"]\n",
    "\n",
    "for id in followed_by:\n",
    "    if id in rumourNodes: continue\n",
    "\n",
    "    user = followed_by[id]\n",
    "\n",
    "    for follower in user[\"non_rumours\"]: \n",
    "        non_rumourEdges.append((follower,id))\n",
    "        non_rum_G.add_edge(follower,id)\n",
    "    \n",
    "    for follower in user[\"bridges\"]: \n",
    "        bridgeEdges.append((follower,id))\n",
    "        non_rum_G.add_edge(follower,id)\n",
    "\n",
    "isolates = list(nx.isolates(non_rum_G))\n",
    "non_rum_G.remove_edges_from(isolates)\n",
    "\n",
    "isolates = set(isolates)\n",
    "rumourNodes = set(rumourNodes).difference(isolates)\n",
    "non_rumourNodes = set(non_rumourNodes).difference(isolates)\n",
    "bridgeNodes = set(bridgeNodes).difference(isolates)"
   ]
  },
  {
   "cell_type": "code",
   "execution_count": null,
   "metadata": {},
   "outputs": [],
   "source": [
    "non_rumour_closeness = nx.closeness_centrality(non_rum_G)\n",
    "non_rum = {}\n",
    "bridges = {}\n",
    "\n",
    "for id in list(non_rumour_closeness):\n",
    "    if id in communities[\"non_rumours\"] : non_rum[id]=non_rumour_closeness[id]\n",
    "    elif id in communities[\"bridges\"] : bridges[id]=non_rumour_closeness[id]\n",
    "\n",
    "# Sort each list \n",
    "non_rum = dict(sorted(non_rum.items(), key=lambda item: item[1],reverse=True))\n",
    "bridges = dict(sorted(bridges.items(), key=lambda item: item[1],reverse=True))\n",
    "\n",
    "non_rumour_closeness = {\n",
    "    \"non_rumours\": non_rum,\n",
    "    \"bridges\": bridges\n",
    "}\n",
    "\n",
    "head.writeToJSON(head.makePath([centrality_path,\"closeness\"]),\"non_rumour_closeness\",non_rumour_closeness)"
   ]
  },
  {
   "cell_type": "markdown",
   "metadata": {},
   "source": [
    "## Reachable"
   ]
  },
  {
   "cell_type": "code",
   "execution_count": 5,
   "metadata": {},
   "outputs": [
    {
     "name": "stdout",
     "output_type": "stream",
     "text": [
      "['1367531', '64643056', '15754281', '87416722', '9651232', '5402612', '51241574', '14173315', '3108351', '868112707', '28785486', '2097571', '380648579', '21749564', '718294442', '87818409', '428333', '15164565']\n"
     ]
    }
   ],
   "source": [
    "# number of reachable non-rumour nodes for each bridge (with individual bridge)\n",
    "R_G = nx.reverse(R_G,copy=True)\n",
    "reachable = {}\n",
    "print(bridges)\n",
    "for b in bridges:\n",
    "    reachable[b] = []\n",
    "    length = nx.single_source_shortest_path_length(R_G, b)\n",
    "    for node in length:\n",
    "        if node != b and R_G.nodes[node][\"at\"] == \"non_rumours\":\n",
    "            (reachable[b]).append(node)\n",
    "\n",
    "head.writeToJSON(head.makePath([centrality_path,\"react\"]),\"reachable_nr_nodes_2\",reachable)\n",
    "# print(reachable)"
   ]
  },
  {
   "cell_type": "markdown",
   "metadata": {},
   "source": [
    "### Follow+React"
   ]
  },
  {
   "cell_type": "code",
   "execution_count": null,
   "metadata": {},
   "outputs": [],
   "source": [
    "nodes = []\n",
    "for x,y in FR_G.nodes(data=True):\n",
    "    if y[\"at\"] == \"rumours\": nodes.append(x)\n",
    "    elif y[\"at\"] == \"bridges\": nodes.append(x)\n",
    "\n",
    "subGraph = FR_G.subgraph(nodes)\n",
    "\n",
    "closeness = ch.closeness_centrality(subGraph)\n",
    "head.writeToJSON(head.makePath([centrality_path,\"follow+react\",\"closeness\"]),\"rumours+bridges\",closeness)"
   ]
  },
  {
   "cell_type": "code",
   "execution_count": 24,
   "metadata": {},
   "outputs": [],
   "source": [
    "# number of reachable non-rumour nodes for each bridge\n",
    "nodes = []\n",
    "bridges = []\n",
    "for x,y in FR_G.nodes(data=True):\n",
    "    if y[\"at\"] == \"non_rumours\": nodes.append(x)\n",
    "    elif y[\"at\"] == \"bridges\": nodes.append(x); bridges.append(x)\n",
    "\n",
    "subGraph = FR_G.subgraph(nodes)\n",
    "subGraph = subGraph.reverse(copy=True)\n",
    "reachable = {}\n",
    "for n in bridges:\n",
    "    length = nx.single_source_shortest_path_length(subGraph, n)\n",
    "    reachable[n] = [node for node in length if n!=node and not(node in bridges)]\n",
    "    # print(f\"{n}: {reachable[n]}\")\n",
    "\n",
    "head.writeToJSON(head.makePath([centrality_path,\"follow+react\"]),\"reachable_nr_nodes\",reachable)"
   ]
  },
  {
   "cell_type": "markdown",
   "metadata": {},
   "source": [
    "## Visualization"
   ]
  },
  {
   "cell_type": "code",
   "execution_count": 6,
   "metadata": {},
   "outputs": [
    {
     "data": {
      "image/png": "[encoded data removed]",
      "text/plain": [
       "<Figure size 432x288 with 1 Axes>"
      ]
     },
     "metadata": {},
     "output_type": "display_data"
    }
   ],
   "source": [
    "# General Display of rumour, non-rumour, and uncategorized communities\n",
    "with open(\"/Users/yu-hung/Downloads/pheme-rumour-scheme-dataset/community_detection/communities.json\") as file:\n",
    "    communities  = json.load(file)\n",
    "\n",
    "gen_G = nx.DiGraph()\n",
    "attributes = {}\n",
    "for com, ids in communities.items():\n",
    "    gen_G.add_nodes_from(ids)\n",
    "    for id in ids:\n",
    "        attributes[id]=com\n",
    "\n",
    "nx.set_node_attributes(gen_G,attributes,\"at\")\n",
    "\n",
    "pos = nx.spring_layout(gen_G, k=1, iterations=20)\n",
    "nx.draw_networkx_nodes(gen_G,pos,nodelist=[x for x,y in gen_G.nodes(data=True) if y[\"at\"]==\"rumours\"],node_color=\"red\",node_size=40)\n",
    "nx.draw_networkx_nodes(gen_G,pos,nodelist=[x for x,y in gen_G.nodes(data=True) if y[\"at\"]==\"non_rumours\"],node_color=\"green\",node_size=40)\n",
    "nx.draw_networkx_nodes(gen_G,pos,nodelist=[x for x,y in gen_G.nodes(data=True) if y[\"at\"]==\"uncategorized\"],node_color=\"yellow\",node_size=40)\n",
    "\n",
    "x_values, y_values = zip(*pos.values())\n",
    "x_max = max(x_values)\n",
    "x_min = min(x_values)\n",
    "x_margin = (x_max - x_min) * 0.25\n",
    "plt.xlim(x_min - x_margin, x_max + x_margin)\n",
    "\n",
    "ax = plt.subplots()\n",
    "\n",
    "plt.show() \n"
   ]
  },
  {
   "cell_type": "markdown",
   "metadata": {},
   "source": [
    "## HITS"
   ]
  },
  {
   "cell_type": "code",
   "execution_count": 12,
   "metadata": {},
   "outputs": [
    {
     "name": "stderr",
     "output_type": "stream",
     "text": [
      "/Library/Frameworks/Python.framework/Versions/3.10/lib/python3.10/site-packages/networkx/algorithms/link_analysis/hits_alg.py:78: FutureWarning: adjacency_matrix will return a scipy.sparse array instead of a matrix in Networkx 3.0.\n",
      "  A = nx.adjacency_matrix(G, nodelist=list(G), dtype=float)\n"
     ]
    }
   ],
   "source": [
    "# Follow Graph\n",
    "with open(\"/Users/yu-hung/Downloads/pheme-rumour-scheme-dataset/community_detection/follow/with_bridges.json\") as file:\n",
    "    communities = json.load(file)\n",
    "\n",
    "G.remove_nodes_from(list(nx.isolates(G)))    \n",
    "h,a = ch.HITS(G,100)\n",
    "\n",
    "dic = {\n",
    "    \"hub\":{},\n",
    "    \"authority\":{}\n",
    "}\n",
    "\n",
    "hub = dic[\"hub\"]\n",
    "aut = dic[\"authority\"]\n",
    "\n",
    "for id in h:\n",
    "    if id in communities[\"rumours\"]: hub[id] = \"rumours\"\n",
    "    if id in communities[\"non_rumours\"]: hub[id] = \"non_rumours\"\n",
    "    if id in communities[\"bridges\"]: hub[id] = \"bridges\"\n",
    "    if id in communities[\"uncategorized\"]: hub[id] = \"uncategorized\"\n",
    "\n",
    "for id in a:\n",
    "    if id in communities[\"rumours\"]: aut[id] = \"rumours\"\n",
    "    if id in communities[\"non_rumours\"]: aut[id] = \"non_rumours\"\n",
    "    if id in communities[\"bridges\"]: aut[id] = \"bridges\"\n",
    "    if id in communities[\"uncategorized\"]: aut[id] = \"uncategorized\"\n",
    "\n",
    "\n",
    "head.writeToJSON(head.makePath([centrality_path,\"follow\",\"hits\"]),\"hub\",h)\n",
    "head.writeToJSON(head.makePath([centrality_path,\"follow\",\"hits\"]),\"authority\",a)\n",
    "head.writeToJSON(head.makePath([centrality_path,\"follow\",\"hits\"]),\"HITS_com\",dic)"
   ]
  },
  {
   "cell_type": "code",
   "execution_count": 5,
   "metadata": {},
   "outputs": [],
   "source": [
    "# React Graph\n",
    "with open(\"/Users/yu-hung/Downloads/pheme-rumour-scheme-dataset/community_detection/react/communities.json\") as file:\n",
    "    communities = json.load(file)\n",
    "\n",
    "h,a = ch.HITS(R_G,100)\n",
    "\n",
    "dic = {\n",
    "    \"hub\":{},\n",
    "    \"authority\":{}\n",
    "}\n",
    "\n",
    "hub = dic[\"hub\"]\n",
    "aut = dic[\"authority\"]\n",
    "\n",
    "for id in h:\n",
    "    if id in communities[\"rumours\"]: hub[id] = \"rumours\"\n",
    "    if id in communities[\"non_rumours\"]: hub[id] = \"non_rumours\"\n",
    "    if id in communities[\"bridges\"]: hub[id] = \"bridges\"\n",
    "    if id in communities[\"uncategorized\"]: hub[id] = \"uncategorized\"\n",
    "\n",
    "for id in a:\n",
    "    if id in communities[\"rumours\"]: aut[id] = \"rumours\"\n",
    "    if id in communities[\"non_rumours\"]: aut[id] = \"non_rumours\"\n",
    "    if id in communities[\"bridges\"]: aut[id] = \"bridges\"\n",
    "    if id in communities[\"uncategorized\"]: aut[id] = \"uncategorized\"\n",
    "\n",
    "\n",
    "head.writeToJSON(head.makePath([centrality_path,\"react\",\"hits\"]),\"hub\",h)\n",
    "head.writeToJSON(head.makePath([centrality_path,\"react\",\"hits\"]),\"authority\",a)\n",
    "head.writeToJSON(head.makePath([centrality_path,\"react\",\"hits\"]),\"HITS_com\",dic)"
   ]
  },
  {
   "cell_type": "code",
   "execution_count": 39,
   "metadata": {},
   "outputs": [],
   "source": [
    "# Follow+React Graph\n",
    "with open(\"/Users/yu-hung/Downloads/pheme-rumour-scheme-dataset/community_detection/follow+react/communities.json\") as file:\n",
    "    communities = json.load(file)\n",
    "\n",
    "h,a = ch.HITS(FR_G,100)\n",
    "\n",
    "dic = {\n",
    "    \"hub\":{},\n",
    "    \"authority\":{}\n",
    "}\n",
    "\n",
    "hub = dic[\"hub\"]\n",
    "aut = dic[\"authority\"]\n",
    "\n",
    "for id in h:\n",
    "    if id in communities[\"rumours\"]: hub[id] = \"rumours\"\n",
    "    if id in communities[\"non_rumours\"]: hub[id] = \"non_rumours\"\n",
    "    if id in communities[\"bridges\"]: hub[id] = \"bridges\"\n",
    "    if id in communities[\"uncategorized\"]: hub[id] = \"uncategorized\"\n",
    "\n",
    "for id in a:\n",
    "    if id in communities[\"rumours\"]: aut[id] = \"rumours\"\n",
    "    if id in communities[\"non_rumours\"]: aut[id] = \"non_rumours\"\n",
    "    if id in communities[\"bridges\"]: aut[id] = \"bridges\"\n",
    "    if id in communities[\"uncategorized\"]: aut[id] = \"uncategorized\"\n",
    "\n",
    "head.writeToJSON(head.makePath([centrality_path,\"follow+react\"]),\"hub\",h)\n",
    "head.writeToJSON(head.makePath([centrality_path,\"follow+react\"]),\"authority\",a)\n",
    "head.writeToJSON(head.makePath([centrality_path,\"follow+react\"]),\"HITS_com\",dic)"
   ]
  }
 ],
 "metadata": {
  "interpreter": {
   "hash": "aee8b7b246df8f9039afb4144a1f6fd8d2ca17a180786b69acc140d282b71a49"
  },
  "kernelspec": {
   "display_name": "Python 3.10.4 64-bit",
   "language": "python",
   "name": "python3"
  },
  "language_info": {
   "codemirror_mode": {
    "name": "ipython",
    "version": 3
   },
   "file_extension": ".py",
   "mimetype": "text/x-python",
   "name": "python",
   "nbconvert_exporter": "python",
   "pygments_lexer": "ipython3",
   "version": "3.10.4"
  },
  "orig_nbformat": 4
 },
 "nbformat": 4,
 "nbformat_minor": 2
}
