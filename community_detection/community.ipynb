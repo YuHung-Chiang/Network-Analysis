{
 "cells": [
  {
   "cell_type": "markdown",
   "metadata": {},
   "source": [
    "# Community Detection"
   ]
  },
  {
   "cell_type": "code",
   "execution_count": 3,
   "metadata": {},
   "outputs": [
    {
     "name": "stdout",
     "output_type": "stream",
     "text": [
      "The autoreload extension is already loaded. To reload it, use:\n",
      "  %reload_ext autoreload\n"
     ]
    }
   ],
   "source": [
    "%load_ext autoreload\n",
    "%autoreload 2\n",
    "\n",
    "import json\n",
    "import os\n",
    "import sys\n",
    "sys.path.insert(0, '/Users/yu-hung/Downloads/pheme-rumour-scheme-dataset')\n",
    "import header as head\n",
    "\n",
    "annotations_path = \"/Users/yu-hung/Downloads/pheme-rumour-scheme-dataset/annotations\"\n",
    "community_path = \"/Users/yu-hung/Downloads/pheme-rumour-scheme-dataset/community_detection\""
   ]
  },
  {
   "cell_type": "markdown",
   "metadata": {},
   "source": [
    "We separate all the users into rumour and non-rumour communities based on keys of `support` and `certainty`. For the sake of this analysis, source tweets and reply tweets expresses same level value of user opinion. The categorization of a user depends on the number of tweets that support or deny a rumour. If there are same number of rumour and non-rumour tweets, we compare the number of certain tweets between rumour and non-rumour tweets. \n",
    "\n",
    "### **source tweets**  \n",
    "We only consider rumour threads with \"suporting\" and \"denying\" values for their support key. In addition, their certainty as to be \"certain\" or \"somewhat-certain\". \n",
    "\n",
    "### **replies**  \n",
    "The classification of Direct replies and Deep replies will be based on their `responsetype-vs-source` in comparison to its source tweet. Similar to source tweet classification, only certainties of \"certain\" and \"somewhat-certain\" will be considered. "
   ]
  },
  {
   "cell_type": "code",
   "execution_count": null,
   "metadata": {},
   "outputs": [],
   "source": [
    "# Community Detection\n",
    "\n",
    "with open(\"/Users/yu-hung/Downloads/pheme-rumour-scheme-dataset/annotations/tweetId_annotations.json\") as f:\n",
    "    annots = json.load(f)\n",
    "\n",
    "with open(\"/Users/yu-hung/Downloads/pheme-rumour-scheme-dataset/Id-conversions/tweet_to_user.json\") as f:\n",
    "    tweet_to_user = json.load(f)\n",
    "\n",
    "sources = annots[\"Source_Tweets\"]\n",
    "replies = annots[\"Reply_Tweets\"]\n",
    "dic = {}\n",
    "\n",
    "for s in sources:\n",
    "    tweet = sources[s]\n",
    "    \n",
    "    try:\n",
    "        user = dic[tweet_to_user[s]]\n",
    "    except:\n",
    "        dic[tweet_to_user[s]] = {\n",
    "            \"supporting\" : {\n",
    "                \"certain\" : [],\n",
    "                \"somewhat-certain\" : []\n",
    "            },\n",
    "            \"denying\" : {\n",
    "                \"certain\" : [],\n",
    "                \"somewhat-certain\" : []\n",
    "            }\n",
    "        }\n",
    "        user = dic[tweet_to_user[s]]\n",
    "\n",
    "    if tweet[\"support\"] == \"supporting\":\n",
    "        user = user[\"supporting\"]\n",
    "    elif tweet[\"support\"] == \"denying\":\n",
    "        user = user[\"denying\"]\n",
    "    else:\n",
    "        print(\"source: \"+s)\n",
    "        \n",
    "    if tweet[\"certainty\"] == \"certain\":\n",
    "        user[\"certain\"].append(s)\n",
    "    elif tweet[\"certainty\"] == \"somewhat-certain\":\n",
    "        user[\"somewhat-certain\"].append(s)\n",
    "\n",
    "for r in replies:\n",
    "    tweet = replies[r]\n",
    "\n",
    "    # Check wheather the user responded to a valid source\n",
    "    try:\n",
    "        src_tweet = sources[tweet[\"threadid\"]]\n",
    "        src_support = src_tweet[\"support\"]\n",
    "    except:\n",
    "        continue\n",
    "\n",
    "    try:\n",
    "        user = dic[tweet_to_user[r]]\n",
    "    except:\n",
    "        dic[tweet_to_user[r]] = {\n",
    "            \"supporting\" : {\n",
    "                \"certain\" : [],\n",
    "                \"somewhat-certain\" : []\n",
    "            },\n",
    "            \"denying\" : {\n",
    "                \"certain\" : [],\n",
    "                \"somewhat-certain\" : []\n",
    "            }\n",
    "        }\n",
    "        user = dic[tweet_to_user[r]]\n",
    "\n",
    "    user_support = tweet[\"responsetype-vs-source\"]\n",
    "    \n",
    "    if src_support == \"supporting\":\n",
    "        if user_support == \"agreed\":\n",
    "            user = user[\"supporting\"]\n",
    "        elif user_support == \"disagreed\":\n",
    "            user = user[\"denying\"]\n",
    "\n",
    "    elif src_support == \"denying\":\n",
    "        if user_support == \"agreed\":\n",
    "            user = user[\"denying\"]\n",
    "        elif user_support == \"disagreed\":\n",
    "            user = user[\"supporting\"]\n",
    "    \n",
    "    else:\n",
    "        print(\"rely: \"+r)\n",
    "    \n",
    "    if tweet[\"certainty\"] == \"certain\":\n",
    "        user[\"certain\"].append(s)\n",
    "    elif tweet[\"certainty\"] == \"somewhat-certain\":\n",
    "        user[\"somewhat-certain\"].append(s)\n",
    "    else:\n",
    "        print(r+\" \"+tweet[\"certainty\"])\n",
    "    \n",
    "\n",
    "\n",
    "    \n",
    "head.writeToJSON(annotations_path,\"userId_annotations\",dic)"
   ]
  },
  {
   "cell_type": "code",
   "execution_count": null,
   "metadata": {},
   "outputs": [],
   "source": [
    "# categorize all users into rumours and non-rumours\n",
    "with open(\"/Users/yu-hung/Downloads/pheme-rumour-scheme-dataset/annotations/userId_annotations.json\") as f:\n",
    "    users = json.load(f)\n",
    "\n",
    "communities = {\n",
    "    \"rumours\" : [],\n",
    "    \"non_rumours\" : []\n",
    "}\n",
    "rumours = communities[\"rumours\"]\n",
    "non_rumours = communities[\"non_rumours\"]\n",
    "\n",
    "for u in users:\n",
    "    user = users[u]\n",
    "    deny = user[\"denying\"]\n",
    "    support = user[\"supporting\"]\n",
    "    deny_size = len(deny[\"certain\"]) + len(deny[\"somewhat-certain\"])\n",
    "    support_size = len(support[\"certain\"]) + len(support[\"somewhat-certain\"])\n",
    "    if deny_size > support_size : non_rumours.append(u)\n",
    "    elif deny_size < support_size : rumours.append(u)\n",
    "    else:\n",
    "        if len(deny[\"certain\"]) > len(support[\"certain\"]): non_rumours.append(u)\n",
    "        elif len(deny[\"certain\"]) < len(support[\"certain\"]): rumours.append(u)\n",
    "        else:\n",
    "            if len(deny[\"somewhat-certain\"]) > len(support[\"somewhat-certain\"]) : non_rumours.append(u)\n",
    "            elif len(deny[\"somewhat-certain\"]) < len(support[\"somewhat-certain\"]): rumours.append(u)\n",
    "            else : print(u)\n",
    "            \n",
    "head.writeToJSON(community_path,\"communities\",communities)"
   ]
  },
  {
   "cell_type": "markdown",
   "metadata": {},
   "source": [
    "Identify users who are bridges"
   ]
  },
  {
   "cell_type": "code",
   "execution_count": 4,
   "metadata": {},
   "outputs": [],
   "source": [
    "# A bridge has followers from both communities\n",
    "with open(\"/Users/yu-hung/Downloads/pheme-rumour-scheme-dataset/bridges/user_followed_by.json\") as f:\n",
    "    user_followed_by = json.load(f)\n",
    "\n",
    "two_com_bridges = {}\n",
    "for id in user_followed_by:\n",
    "   user = user_followed_by[id]\n",
    "   if len(user[\"rumours\"]) > 0 and len(user[\"non_rumours\"]) > 0:\n",
    "       two_com_bridges[id] = user_followed_by[id]\n",
    "\n",
    "head.writeToJSON(community_path,\"bridges\",two_com_bridges)"
   ]
  },
  {
   "cell_type": "markdown",
   "metadata": {},
   "source": [
    "Differentiate bridges from other communities"
   ]
  },
  {
   "cell_type": "code",
   "execution_count": null,
   "metadata": {},
   "outputs": [],
   "source": [
    "with open(\"/Users/yu-hung/Downloads/pheme-rumour-scheme-dataset/bridges/both_communities.json\") as f:\n",
    "    bi_commun_bridges = json.load(f)\n",
    "    bi_commun_bridges = bi_commun_bridges.keys()\n",
    "\n",
    "with open(\"/Users/yu-hung/Downloads/pheme-rumour-scheme-dataset/community_detection/communities.json\") as f:\n",
    "    communities = json.load(f)\n",
    "\n",
    "new_communities = {\n",
    "    \"rumours\":[],\n",
    "    \"non_rumours\":[],\n",
    "    \"bridges\":[]\n",
    "}\n",
    "\n",
    "bridges = new_communities[\"bridges\"]\n",
    "rumours = new_communities[\"rumours\"]\n",
    "non_rumours = new_communities[\"non_rumours\"]\n",
    "\n",
    "for id in communities[\"rumours\"]:\n",
    "    if id in bi_commun_bridges : bridges.append(id)\n",
    "    else : rumours.append(id)\n",
    "        \n",
    "for id in communities[\"non_rumours\"]:\n",
    "    if id in bi_commun_bridges : bridges.append(id)\n",
    "    else: non_rumours.append(id)\n",
    "        \n",
    "\n",
    "head.writeToJSON(community_path,\"with_bridges\",new_communities)"
   ]
  }
 ],
 "metadata": {
  "interpreter": {
   "hash": "aee8b7b246df8f9039afb4144a1f6fd8d2ca17a180786b69acc140d282b71a49"
  },
  "kernelspec": {
   "display_name": "Python 3.10.4 64-bit",
   "language": "python",
   "name": "python3"
  },
  "language_info": {
   "codemirror_mode": {
    "name": "ipython",
    "version": 3
   },
   "file_extension": ".py",
   "mimetype": "text/x-python",
   "name": "python",
   "nbconvert_exporter": "python",
   "pygments_lexer": "ipython3",
   "version": "3.10.4"
  },
  "orig_nbformat": 4
 },
 "nbformat": 4,
 "nbformat_minor": 2
}
