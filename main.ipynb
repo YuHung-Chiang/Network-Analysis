{
 "cells": [
  {
   "cell_type": "markdown",
   "metadata": {},
   "source": [
    "# The following are analysis performed for this Bachelor Thesis"
   ]
  },
  {
   "cell_type": "code",
   "execution_count": null,
   "metadata": {},
   "outputs": [],
   "source": [
    "%load_ext autoreload\n",
    "%autoreload 2\n",
    "\n",
    "from tabulate import tabulate\n",
    "from texttable import Texttable\n",
    "import latextable\n",
    "import header as head\n",
    "import json\n",
    "import os\n",
    "\n",
    "annotations_path = \"/Users/yu-hung/Downloads/pheme-rumour-scheme-dataset/annotations\"\n",
    "community_path = \"/Users/yu-hung/Downloads/pheme-rumour-scheme-dataset/community_detection\"\n",
    "bridges_path = \"/Users/yu-hung/Downloads/pheme-rumour-scheme-dataset/bridges\"\n",
    "figure_path = \"/Users/yu-hung/Downloads/pheme-rumour-scheme-dataset/Figures\""
   ]
  },
  {
   "cell_type": "markdown",
   "metadata": {},
   "source": [
    "There are 74 rumour source tweet with 0 non-rumour source tweet within the total of 74 rumour tweet."
   ]
  },
  {
   "cell_type": "code",
   "execution_count": null,
   "metadata": {},
   "outputs": [],
   "source": [
    "# p = head.getPath()\n",
    "# print(p)\n",
    "head.count()"
   ]
  },
  {
   "cell_type": "code",
   "execution_count": null,
   "metadata": {},
   "outputs": [],
   "source": [
    "# merging following relationship into a JSON file\n",
    "head.followRelate()\n",
    "\n",
    "with open('/Users/yu-hung/Downloads/pheme-rumour-scheme-dataset/relateIds.json') as f:\n",
    "    data = json.load(f)\n",
    "    followRelate_Ids = list(data.keys())"
   ]
  },
  {
   "cell_type": "code",
   "execution_count": null,
   "metadata": {},
   "outputs": [],
   "source": [
    "# generate dictionary for tweetId and userId conversion\n",
    "# results are saved in Id-conversions folder\n",
    "head.gen_idConversion()"
   ]
  },
  {
   "cell_type": "markdown",
   "metadata": {},
   "source": [
    "There are followers who reacted to the source tweets. \n",
    "* reacts from followers are saved in `react_follows`\n",
    "* reacts from non-followers are saved in `react_not_follows`"
   ]
  },
  {
   "cell_type": "code",
   "execution_count": null,
   "metadata": {},
   "outputs": [],
   "source": [
    "# See whether there are any reactors that follows the person they responded to \n",
    "with open(\"/Users/yu-hung/Downloads/pheme-rumour-scheme-dataset/relateIds.json\") as f:\n",
    "    followingRelate = json.load(f)\n",
    "\n",
    "head.is_follower_react(followingRelate)"
   ]
  },
  {
   "cell_type": "code",
   "execution_count": null,
   "metadata": {},
   "outputs": [],
   "source": [
    "with open(\"/Users/yu-hung/Downloads/pheme-rumour-scheme-dataset/community_detection/with_bridges.json\") as file:\n",
    "    communities = json.load(file)\n",
    "\n",
    "with open(\"/Users/yu-hung/Downloads/pheme-rumour-scheme-dataset/who-follows-whom.json\") as file:\n",
    "    who_follows_whom = json.load(file)\n",
    "\n",
    "bridges = communities[\"bridges\"]\n",
    "rumours = communities[\"rumours\"]\n",
    "non_rumours = communities[\"non_rumours\"]\n",
    "\n",
    "bridges_follow = {}\n",
    "\n",
    "for bridge in bridges:\n",
    "    follows = who_follows_whom[bridge]\n",
    "    bridges_follow[bridge] = {\n",
    "        \"rumours\":[],\n",
    "        \"non_rumours\":[],\n",
    "        \"bridges\":[]\n",
    "    }\n",
    "\n",
    "    for f in follows:\n",
    "        if f in rumours: (bridges_follow[bridge])[\"rumours\"].append(f)\n",
    "        elif f in non_rumours: (bridges_follow[bridge])[\"non_rumours\"].append(f)\n",
    "        elif f in bridges: (bridges_follow[bridge])[\"bridges\"].append(f)\n",
    "\n",
    "head.writeToJSON(head.getRoot(),\"bridges_follows\",bridges_follow)\n"
   ]
  },
  {
   "cell_type": "markdown",
   "metadata": {},
   "source": [
    "### Reacting Relationship"
   ]
  },
  {
   "cell_type": "code",
   "execution_count": null,
   "metadata": {},
   "outputs": [],
   "source": [
    "reacted_by = head.who_reacted_by_whom()\n",
    "\n",
    "with open(\"/Users/yu-hung/Downloads/pheme-rumour-scheme-dataset/community_detection/communities.json\") as file:\n",
    "    communities = json.load(file)\n",
    "\n",
    "rumours = communities[\"rumours\"]\n",
    "non_rumours = communities[\"non_rumours\"]\n",
    "uncategorized = communities[\"uncategorized\"]\n",
    "\n",
    "cat_who_reacted_by_whom = {}\n",
    "\n",
    "for id in reacted_by:\n",
    "    if not(id in rumours or id in non_rumours or id in uncategorized):\n",
    "        continue\n",
    "    cat_who_reacted_by_whom[id] = {}\n",
    "    user = cat_who_reacted_by_whom[id]\n",
    "    user[\"rumours\"] = list(set(reacted_by[id]).intersection(set(rumours)))\n",
    "    user[\"non_rumours\"] = list(set(reacted_by[id]).intersection(set(non_rumours)))\n",
    "    user[\"uncategorized\"] = list(set(reacted_by[id]).intersection(set(uncategorized)))\n",
    "\n",
    "    # pop keys with no reactants\n",
    "    if not(user[\"rumours\"] or user[\"non_rumours\"] or user[\"uncategorized\"]):\n",
    "        cat_who_reacted_by_whom.pop(id)\n",
    "\n",
    "head.writeToJSON(head.getRoot(),\"who_reacted_by_whom\",cat_who_reacted_by_whom)"
   ]
  },
  {
   "cell_type": "code",
   "execution_count": null,
   "metadata": {},
   "outputs": [],
   "source": [
    "# Filter out type1 bridges\n",
    "with open(\"/Users/yu-hung/Downloads/pheme-rumour-scheme-dataset/bridges/react/type1.json\") as file:\n",
    "    react_type1 = json.load(file)\n",
    "    react_type1 = react_type1.keys()\n",
    "\n",
    "with open(\"/Users/yu-hung/Downloads/pheme-rumour-scheme-dataset/who_reacted_by_whom.json\") as file:\n",
    "    who_follows_whom = json.load(file)\n",
    "\n",
    "for key, values in who_follows_whom.items():\n",
    "    bridges = []\n",
    "    for id in values[\"rumours\"]:\n",
    "        if id in react_type1:\n",
    "            bridges.append(id)\n",
    "            values[\"rumours\"].remove(id)\n",
    "    \n",
    "    for id in values[\"non_rumours\"]:\n",
    "        if id in react_type1:\n",
    "                bridges.append(id)\n",
    "                values[\"non_rumours\"].remove(id)\n",
    "    \n",
    "    for id in values[\"uncategorized\"]:\n",
    "        if id in react_type1:\n",
    "            bridges.append(id)\n",
    "            values[\"uncategorized\"].remove(id)\n",
    "    \n",
    "    (who_follows_whom[key])[\"bridges\"] = bridges\n",
    "\n",
    "head.writeToJSON(head.getRoot(),\"who_reacted_by_whom\",who_follows_whom)\n"
   ]
  },
  {
   "cell_type": "markdown",
   "metadata": {},
   "source": [
    "Merge following and reacting relationships into one"
   ]
  },
  {
   "cell_type": "code",
   "execution_count": null,
   "metadata": {},
   "outputs": [],
   "source": [
    "with open(\"/Users/yu-hung/Downloads/pheme-rumour-scheme-dataset/who_reacted_by_whom.json\") as file:\n",
    "    reacting_relate = json.load(file)\n",
    "\n",
    "with open(\"/Users/yu-hung/Downloads/pheme-rumour-scheme-dataset/bridges/user_followed_by.json\") as file:\n",
    "    following_relate = json.load(file)\n",
    "\n",
    "react_ids = reacting_relate.keys()\n",
    "follow_id = following_relate.keys()\n",
    "\n",
    "duplicates_ids = list(set(react_ids).intersection(set(follow_id)))\n",
    "# react_ids = list(set(react_ids).difference(set(duplicates_ids)))\n",
    "follow_id = follow_id - duplicates_ids\n",
    "\n",
    "for key, values in reacting_relate.items():\n",
    "    try:\n",
    "        values[\"rumours\"] += list(set((following_relate[key])[\"rumours\"]) - set( values[\"rumours\"]))\n",
    "        values[\"non_rumours\"] += list(set((following_relate[key])[\"non_rumours\"]) - set( values[\"non_rumours\"]))\n",
    "        values[\"bridges\"] += list(set((following_relate[key])[\"bridges\"]) - set( values[\"bridges\"]))\n",
    "        values[\"uncategorized\"] += list(set((following_relate[key])[\"uncategorized\"]) - set( values[\"uncategorized\"]))\n",
    "    except:\n",
    "        continue\n",
    "\n",
    "for follow in follow_id:\n",
    "    reacting_relate[follow] = following_relate[follow]\n",
    "\n",
    "head.writeToJSON(head.getRoot(),\"react+following\",reacting_relate)"
   ]
  },
  {
   "cell_type": "markdown",
   "metadata": {},
   "source": [
    "### Tabular"
   ]
  },
  {
   "cell_type": "code",
   "execution_count": null,
   "metadata": {},
   "outputs": [],
   "source": [
    "# follow + follower counts\n",
    "with open(\"/Users/yu-hung/Downloads/pheme-rumour-scheme-dataset/bridges/type 1/centrality.json\") as file:\n",
    "    bridge_centrality = json.load(file)\n",
    "\n",
    "table = Texttable()\n",
    "table.set_cols_align([\"c\", \"c\", \"c\"])\n",
    "table.set_cols_valign([\"t\", \"m\", \"b\"])\n",
    "table.add_rows([[\"id\",\"#rumour followers\",\"#non-rumour followers\"]])\n",
    "\n",
    "data = []\n",
    "for id in bridge_centrality:\n",
    "    bridge = bridge_centrality[id]\n",
    "    info = [id,bridge[\"rum_count\"],bridge[\"nonrum_count\"]]\n",
    "    data.append(info)\n",
    "\n",
    "table.add_rows(data)\n",
    "with open('follower_counts.txt', 'w') as f:\n",
    "    f.write(latextable.draw_latex(table, caption=\"An example table.\", label=\"table:example_table\"))\n",
    "\n"
   ]
  },
  {
   "cell_type": "code",
   "execution_count": null,
   "metadata": {},
   "outputs": [],
   "source": [
    "# follow + betweeness + centrality\n",
    "with open(\"/Users/yu-hung/Downloads/pheme-rumour-scheme-dataset/bridges/type 1/centrality_2.json\") as file:\n",
    "    bridge_centrality = json.load(file)\n",
    "\n",
    "table = Texttable()\n",
    "table.set_cols_align([\"c\", \"c\", \"c\"])\n",
    "table.set_cols_valign([\"t\", \"t\", \"t\"])\n",
    "table.set_cols_dtype([\"i\",\"e\",\"e\"])\n",
    "\n",
    "data = []\n",
    "for id in bridge_centrality:\n",
    "    bridge = bridge_centrality[id]\n",
    "    info = []\n",
    "    if bridge[\"rumours\"]:\n",
    "        info.append([id,\"betweeness\",\"centrality\"])\n",
    "        info.append([\"rumours\",\"\",\"\"])\n",
    "        \n",
    "        for follower in bridge[\"rumours\"]:\n",
    "            user = (bridge[\"rumours\"])[follower]\n",
    "            info.append([follower,user[\"betweeness\"],user[\"closeness\"]])\n",
    "    \n",
    "    elif bridge[\"non_rumours\"]:\n",
    "        info.append([id,\"betweeness\",\"centrality\"])\n",
    "        info.append([\"non-rumours\",\"\",\"\"])\n",
    "\n",
    "        for follower in bridge[\"non_rumours\"]:\n",
    "            user = (bridge[\"non_rumours\"])[follower]\n",
    "            info.append([follower,user[\"betweeness\"],user[\"closeness\"]])\n",
    "    \n",
    "    data.extend(info)\n",
    "\n",
    "table.add_rows(data)\n",
    "# print(latextable.draw_latex(table, caption=\"An example table.\", label=\"table:example_table\"))\n",
    "with open(head.makePath([figure_path,\"follow\",\"follower_centrality.txt\"]), 'w') as f:\n",
    "    f.write(latextable.draw_latex(table, caption=\"An example table.\", label=\"table:example_table\"))\n",
    "\n"
   ]
  }
 ],
 "metadata": {
  "interpreter": {
   "hash": "aee8b7b246df8f9039afb4144a1f6fd8d2ca17a180786b69acc140d282b71a49"
  },
  "kernelspec": {
   "display_name": "Python 3.10.4 64-bit",
   "language": "python",
   "name": "python3"
  },
  "language_info": {
   "codemirror_mode": {
    "name": "ipython",
    "version": 3
   },
   "file_extension": ".py",
   "mimetype": "text/x-python",
   "name": "python",
   "nbconvert_exporter": "python",
   "pygments_lexer": "ipython3",
   "version": "3.10.4"
  },
  "orig_nbformat": 4
 },
 "nbformat": 4,
 "nbformat_minor": 2
}
