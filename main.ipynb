{
 "cells": [
  {
   "cell_type": "markdown",
   "metadata": {},
   "source": [
    "# The following are analysis performed for this Bachelor Thesis"
   ]
  },
  {
   "cell_type": "code",
   "execution_count": 2,
   "metadata": {},
   "outputs": [],
   "source": [
    "%load_ext autoreload\n",
    "%autoreload 2\n",
    "\n",
    "import header as head\n",
    "import json\n",
    "import os\n",
    "\n",
    "annotations_path = \"/Users/yu-hung/Downloads/pheme-rumour-scheme-dataset/annotations\"\n",
    "community_path = \"/Users/yu-hung/Downloads/pheme-rumour-scheme-dataset/community_detection\"\n",
    "bridges_path = \"/Users/yu-hung/Downloads/pheme-rumour-scheme-dataset/bridges\""
   ]
  },
  {
   "cell_type": "markdown",
   "metadata": {},
   "source": [
    "There are 74 rumour source tweet with 0 non-rumour source tweet within the total of 74 rumour tweet."
   ]
  },
  {
   "cell_type": "code",
   "execution_count": null,
   "metadata": {},
   "outputs": [],
   "source": [
    "# p = head.getPath()\n",
    "# print(p)\n",
    "head.count()"
   ]
  },
  {
   "cell_type": "code",
   "execution_count": null,
   "metadata": {},
   "outputs": [],
   "source": [
    "# merging following relationship into a JSON file\n",
    "head.followRelate()\n",
    "\n",
    "with open('/Users/yu-hung/Downloads/pheme-rumour-scheme-dataset/relateIds.json') as f:\n",
    "    data = json.load(f)\n",
    "    followRelate_Ids = list(data.keys())"
   ]
  },
  {
   "cell_type": "code",
   "execution_count": null,
   "metadata": {},
   "outputs": [],
   "source": [
    "# generate dictionary for tweetId and userId conversion\n",
    "# results are saved in Id-conversions folder\n",
    "head.gen_idConversion()"
   ]
  },
  {
   "cell_type": "markdown",
   "metadata": {},
   "source": [
    "There are followers who reacted to the source tweets. \n",
    "* reacts from followers are saved in `react_follows`\n",
    "* reacts from non-followers are saved in `react_not_follows`"
   ]
  },
  {
   "cell_type": "code",
   "execution_count": null,
   "metadata": {},
   "outputs": [],
   "source": [
    "# See whether there are any reactors that follows the person they responded to \n",
    "with open(\"/Users/yu-hung/Downloads/pheme-rumour-scheme-dataset/relateIds.json\") as f:\n",
    "    followingRelate = json.load(f)\n",
    "\n",
    "head.is_follower_react(followingRelate)"
   ]
  },
  {
   "cell_type": "code",
   "execution_count": 5,
   "metadata": {},
   "outputs": [],
   "source": [
    "with open(\"/Users/yu-hung/Downloads/pheme-rumour-scheme-dataset/community_detection/with_bridges.json\") as file:\n",
    "    communities = json.load(file)\n",
    "\n",
    "with open(\"/Users/yu-hung/Downloads/pheme-rumour-scheme-dataset/who-follows-whom.json\") as file:\n",
    "    who_follows_whom = json.load(file)\n",
    "\n",
    "bridges = communities[\"bridges\"]\n",
    "rumours = communities[\"rumours\"]\n",
    "non_rumours = communities[\"non_rumours\"]\n",
    "\n",
    "bridges_follow = {}\n",
    "\n",
    "for bridge in bridges:\n",
    "    follows = who_follows_whom[bridge]\n",
    "    bridges_follow[bridge] = {\n",
    "        \"rumours\":[],\n",
    "        \"non_rumours\":[],\n",
    "        \"bridges\":[]\n",
    "    }\n",
    "\n",
    "    for f in follows:\n",
    "        if f in rumours: (bridges_follow[bridge])[\"rumours\"].append(f)\n",
    "        elif f in non_rumours: (bridges_follow[bridge])[\"non_rumours\"].append(f)\n",
    "        elif f in bridges: (bridges_follow[bridge])[\"bridges\"].append(f)\n",
    "\n",
    "head.writeToJSON(head.getRoot(),\"bridges_follows\",bridges_follow)\n"
   ]
  }
 ],
 "metadata": {
  "interpreter": {
   "hash": "aee8b7b246df8f9039afb4144a1f6fd8d2ca17a180786b69acc140d282b71a49"
  },
  "kernelspec": {
   "display_name": "Python 3.10.4 64-bit",
   "language": "python",
   "name": "python3"
  },
  "language_info": {
   "codemirror_mode": {
    "name": "ipython",
    "version": 3
   },
   "file_extension": ".py",
   "mimetype": "text/x-python",
   "name": "python",
   "nbconvert_exporter": "python",
   "pygments_lexer": "ipython3",
   "version": "3.10.4"
  },
  "orig_nbformat": 4
 },
 "nbformat": 4,
 "nbformat_minor": 2
}
