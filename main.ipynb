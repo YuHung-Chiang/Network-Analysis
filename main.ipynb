{
 "cells": [
  {
   "cell_type": "markdown",
   "metadata": {},
   "source": [
    "# The following are analysis performed for this Bachelor Thesis"
   ]
  },
  {
   "cell_type": "code",
   "execution_count": 16,
   "metadata": {},
   "outputs": [
    {
     "name": "stdout",
     "output_type": "stream",
     "text": [
      "The autoreload extension is already loaded. To reload it, use:\n",
      "  %reload_ext autoreload\n"
     ]
    }
   ],
   "source": [
    "%load_ext autoreload\n",
    "%autoreload 2\n",
    "\n",
    "from tabulate import tabulate\n",
    "from texttable import Texttable\n",
    "import latextable\n",
    "import header as head\n",
    "import json\n",
    "import os\n",
    "\n",
    "annotations_path = \"/Users/yu-hung/Downloads/pheme-rumour-scheme-dataset/annotations\"\n",
    "community_path = \"/Users/yu-hung/Downloads/pheme-rumour-scheme-dataset/community_detection\"\n",
    "bridges_path = \"/Users/yu-hung/Downloads/pheme-rumour-scheme-dataset/bridges\""
   ]
  },
  {
   "cell_type": "markdown",
   "metadata": {},
   "source": [
    "There are 74 rumour source tweet with 0 non-rumour source tweet within the total of 74 rumour tweet."
   ]
  },
  {
   "cell_type": "code",
   "execution_count": null,
   "metadata": {},
   "outputs": [],
   "source": [
    "# p = head.getPath()\n",
    "# print(p)\n",
    "head.count()"
   ]
  },
  {
   "cell_type": "code",
   "execution_count": null,
   "metadata": {},
   "outputs": [],
   "source": [
    "# merging following relationship into a JSON file\n",
    "head.followRelate()\n",
    "\n",
    "with open('/Users/yu-hung/Downloads/pheme-rumour-scheme-dataset/relateIds.json') as f:\n",
    "    data = json.load(f)\n",
    "    followRelate_Ids = list(data.keys())"
   ]
  },
  {
   "cell_type": "code",
   "execution_count": null,
   "metadata": {},
   "outputs": [],
   "source": [
    "# generate dictionary for tweetId and userId conversion\n",
    "# results are saved in Id-conversions folder\n",
    "head.gen_idConversion()"
   ]
  },
  {
   "cell_type": "markdown",
   "metadata": {},
   "source": [
    "There are followers who reacted to the source tweets. \n",
    "* reacts from followers are saved in `react_follows`\n",
    "* reacts from non-followers are saved in `react_not_follows`"
   ]
  },
  {
   "cell_type": "code",
   "execution_count": null,
   "metadata": {},
   "outputs": [],
   "source": [
    "# See whether there are any reactors that follows the person they responded to \n",
    "with open(\"/Users/yu-hung/Downloads/pheme-rumour-scheme-dataset/relateIds.json\") as f:\n",
    "    followingRelate = json.load(f)\n",
    "\n",
    "head.is_follower_react(followingRelate)"
   ]
  },
  {
   "cell_type": "code",
   "execution_count": null,
   "metadata": {},
   "outputs": [],
   "source": [
    "with open(\"/Users/yu-hung/Downloads/pheme-rumour-scheme-dataset/community_detection/with_bridges.json\") as file:\n",
    "    communities = json.load(file)\n",
    "\n",
    "with open(\"/Users/yu-hung/Downloads/pheme-rumour-scheme-dataset/who-follows-whom.json\") as file:\n",
    "    who_follows_whom = json.load(file)\n",
    "\n",
    "bridges = communities[\"bridges\"]\n",
    "rumours = communities[\"rumours\"]\n",
    "non_rumours = communities[\"non_rumours\"]\n",
    "\n",
    "bridges_follow = {}\n",
    "\n",
    "for bridge in bridges:\n",
    "    follows = who_follows_whom[bridge]\n",
    "    bridges_follow[bridge] = {\n",
    "        \"rumours\":[],\n",
    "        \"non_rumours\":[],\n",
    "        \"bridges\":[]\n",
    "    }\n",
    "\n",
    "    for f in follows:\n",
    "        if f in rumours: (bridges_follow[bridge])[\"rumours\"].append(f)\n",
    "        elif f in non_rumours: (bridges_follow[bridge])[\"non_rumours\"].append(f)\n",
    "        elif f in bridges: (bridges_follow[bridge])[\"bridges\"].append(f)\n",
    "\n",
    "head.writeToJSON(head.getRoot(),\"bridges_follows\",bridges_follow)\n"
   ]
  },
  {
   "cell_type": "markdown",
   "metadata": {},
   "source": [
    "Exporting tabular to file"
   ]
  },
  {
   "cell_type": "code",
   "execution_count": 28,
   "metadata": {},
   "outputs": [],
   "source": [
    "with open(\"/Users/yu-hung/Downloads/pheme-rumour-scheme-dataset/bridges/type 1/centrality.json\") as file:\n",
    "    bridge_centrality = json.load(file)\n",
    "\n",
    "table = Texttable()\n",
    "table.set_cols_align([\"c\", \"c\", \"c\"])\n",
    "table.set_cols_valign([\"t\", \"m\", \"b\"])\n",
    "table.add_rows([[\"id\",\"#rumour followers\",\"#non-rumour followers\"]])\n",
    "\n",
    "data = []\n",
    "for id in bridge_centrality:\n",
    "    bridge = bridge_centrality[id]\n",
    "    info = [id,bridge[\"rum_count\"],bridge[\"nonrum_count\"]]\n",
    "    data.append(info)\n",
    "\n",
    "table.add_rows(data)\n",
    "with open('follower_counts.txt', 'w') as f:\n",
    "    f.write(latextable.draw_latex(table, caption=\"An example table.\", label=\"table:example_table\"))\n",
    "\n"
   ]
  },
  {
   "cell_type": "code",
   "execution_count": 27,
   "metadata": {},
   "outputs": [
    {
     "name": "stdout",
     "output_type": "stream",
     "text": [
      "-- Example 1: Basic --\n",
      "Texttable Output:\n",
      "+----------+-----+----------+\n",
      "|   Name   | Age | Nickname |\n",
      "+==========+=====+==========+\n",
      "| Mr       |     |          |\n",
      "| Xavier   |  32 |          |\n",
      "| Huon     |     |   Xav'   |\n",
      "+----------+-----+----------+\n",
      "| Mr       |     |          |\n",
      "| Baptiste |   1 |          |\n",
      "| Clement  |     |   Baby   |\n",
      "+----------+-----+----------+\n",
      "| Mme      |     |   Lou    |\n",
      "| Louise   |  28 |          |\n",
      "| Bourgeau |     |   Loue   |\n",
      "+----------+-----+----------+\n",
      "\n",
      "Latextable Output:\n",
      "\\begin{table}\n",
      "\t\\begin{center}\n",
      "\t\t\\begin{tabular}{|l|r|c|}\n",
      "\t\t\t\\hline\n",
      "\t\t\tName & Age & Nickname \\\\\n",
      "\t\t\t\\hline\n",
      "\t\t\tMrXavierHuon & 32 & Xav' \\\\\n",
      "\t\t\t\\hline\n",
      "\t\t\tMrBaptisteClement & 1 & Baby \\\\\n",
      "\t\t\t\\hline\n",
      "\t\t\tMmeLouiseBourgeau & 28 & Lou Loue \\\\\n",
      "\t\t\t\\hline\n",
      "\t\t\\end{tabular}\n",
      "\t\\end{center}\n",
      "\t\\caption{An example table.}\n",
      "\t\\label{table:example_table}\n",
      "\\end{table}\n"
     ]
    }
   ],
   "source": [
    "table_1 = Texttable()\n",
    "table_1.set_cols_align([\"l\", \"r\", \"c\"])\n",
    "table_1.set_cols_valign([\"t\", \"m\", \"b\"])\n",
    "table_1.add_rows([[\"Name\", \"Age\", \"Nickname\"],\n",
    "                    [\"Mr\\nXavier\\nHuon\", 32, \"Xav'\"],\n",
    "                    [\"Mr\\nBaptiste\\nClement\", 1, \"Baby\"],\n",
    "                    [\"Mme\\nLouise\\nBourgeau\", 28, \"Lou\\n \\nLoue\"]])\n",
    "print('-- Example 1: Basic --')\n",
    "print('Texttable Output:')\n",
    "print(table_1.draw())\n",
    "print('\\nLatextable Output:')\n",
    "print(latextable.draw_latex(table_1, caption=\"An example table.\", label=\"table:example_table\"))"
   ]
  }
 ],
 "metadata": {
  "interpreter": {
   "hash": "aee8b7b246df8f9039afb4144a1f6fd8d2ca17a180786b69acc140d282b71a49"
  },
  "kernelspec": {
   "display_name": "Python 3.10.4 64-bit",
   "language": "python",
   "name": "python3"
  },
  "language_info": {
   "codemirror_mode": {
    "name": "ipython",
    "version": 3
   },
   "file_extension": ".py",
   "mimetype": "text/x-python",
   "name": "python",
   "nbconvert_exporter": "python",
   "pygments_lexer": "ipython3",
   "version": "3.10.4"
  },
  "orig_nbformat": 4
 },
 "nbformat": 4,
 "nbformat_minor": 2
}
