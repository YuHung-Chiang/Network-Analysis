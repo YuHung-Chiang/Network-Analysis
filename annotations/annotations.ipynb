{
 "cells": [
  {
   "cell_type": "markdown",
   "metadata": {},
   "source": [
    "# Filtering Annotations"
   ]
  },
  {
   "cell_type": "code",
   "execution_count": null,
   "metadata": {},
   "outputs": [],
   "source": [
    "%load_ext autoreload\n",
    "%autoreload 2\n",
    "\n",
    "import json\n",
    "import os\n",
    "import sys\n",
    "sys.path.insert(0, '/Users/yu-hung/Downloads/pheme-rumour-scheme-dataset')\n",
    "import header as head\n",
    "\n",
    "annotation_path = \"/Users/yu-hung/Downloads/pheme-rumour-scheme-dataset/annotations/en-scheme-annotations.json\""
   ]
  },
  {
   "cell_type": "markdown",
   "metadata": {},
   "source": [
    "Extracting all charlie hebdo annotations"
   ]
  },
  {
   "cell_type": "code",
   "execution_count": null,
   "metadata": {},
   "outputs": [],
   "source": [
    "head.extract_annotations(\"charliehebdo\",annotation_path)"
   ]
  },
  {
   "cell_type": "markdown",
   "metadata": {},
   "source": [
    "Organize the annotations by source tweets with their corresponding Direct Replies and Deep Replies."
   ]
  },
  {
   "cell_type": "code",
   "execution_count": null,
   "metadata": {},
   "outputs": [],
   "source": [
    "# Organize all the annotation based on source tweets\n",
    "with open(\"/Users/yu-hung/Downloads/pheme-rumour-scheme-dataset/filtered_annotations.json\") as f:\n",
    "    data = json.load(f)\n",
    "\n",
    "head.org_annotations(data)"
   ]
  },
  {
   "cell_type": "markdown",
   "metadata": {},
   "source": [
    "Further organize \"filtered_annotation\" file by using their tweetIds as keys. We only preserve certain variables from the annotation."
   ]
  },
  {
   "cell_type": "code",
   "execution_count": null,
   "metadata": {},
   "outputs": [],
   "source": [
    "with open(\"/Users/yu-hung/Downloads/pheme-rumour-scheme-dataset/annotations/filtered_annotations.json\") as f:\n",
    "    annots = json.load(f)\n",
    "\n",
    "soruces = annots[\"Source Tweets\"]\n",
    "dir_rep = annots[\"Direct Replies\"]\n",
    "deep_rep = annots[\"Deep Replies\"]\n",
    "\n",
    "dic = {}\n",
    "dic[\"Source_Tweets\"] = {}\n",
    "dic[\"Reply_Tweets\"] = {}\n",
    "src_dic = dic[\"Source_Tweets\"]\n",
    "rep_dic = dic[\"Reply_Tweets\"]\n",
    "\n",
    "for s in soruces:\n",
    "    support = s[\"support\"]\n",
    "    if support != \"underspecified\":\n",
    "        if s[\"certainty\"] != \"uncertain\":\n",
    "            src_dic[s[\"tweetid\"]] = {\n",
    "                \"support\": s[\"support\"],\n",
    "                \"certainty\" : s[\"certainty\"]\n",
    "            }\n",
    "\n",
    "\n",
    "for d in dir_rep:\n",
    "    respons_type = d[\"responsetype-vs-source\"]\n",
    "    if (respons_type != \"comment\" and respons_type != \"appeal-for-more-information\"):\n",
    "        if d[\"certainty\"] != \"uncertain\" and d[\"certainty\"] != \"underspecified\":\n",
    "            rep_dic[d[\"tweetid\"]] = {\n",
    "                \"threadid\" : d[\"threadid\"],\n",
    "                \"responsetype-vs-source\": d[\"responsetype-vs-source\"],\n",
    "                \"certainty\" : d[\"certainty\"]\n",
    "            }\n",
    "        \n",
    "for d in deep_rep:\n",
    "    respons_type = d[\"responsetype-vs-source\"]\n",
    "    if (respons_type != \"comment\" and respons_type != \"appeal-for-more-information\"):\n",
    "        if d[\"certainty\"] != \"uncertain\" and d[\"certainty\"] != \"underspecified\":\n",
    "            rep_dic[d[\"tweetid\"]] = {\n",
    "                \"threadid\" : d[\"threadid\"],\n",
    "                \"responsetype-vs-source\": d[\"responsetype-vs-source\"],\n",
    "                \"certainty\" : d[\"certainty\"]\n",
    "            }\n",
    "\n",
    "head.writeToJSON(annotations_path,\"tweetId_annotations\",dic)"
   ]
  }
 ],
 "metadata": {
  "interpreter": {
   "hash": "aee8b7b246df8f9039afb4144a1f6fd8d2ca17a180786b69acc140d282b71a49"
  },
  "kernelspec": {
   "display_name": "Python 3.10.4 64-bit",
   "language": "python",
   "name": "python3"
  },
  "language_info": {
   "codemirror_mode": {
    "name": "ipython",
    "version": 3
   },
   "file_extension": ".py",
   "mimetype": "text/x-python",
   "name": "python",
   "nbconvert_exporter": "python",
   "pygments_lexer": "ipython3",
   "version": "3.10.4"
  },
  "orig_nbformat": 4
 },
 "nbformat": 4,
 "nbformat_minor": 2
}
